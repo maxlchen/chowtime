{
 "cells": [
  {
   "cell_type": "code",
   "execution_count": 96,
   "metadata": {},
   "outputs": [],
   "source": [
    "import json\n",
    "import io\n",
    "import get_key\n",
    "from yelp.client import Client\n",
    "from yelp.oauth1_authenticator import Oauth1Authenticator\n",
    "from yelpapi import YelpAPI\n",
    "\n",
    "api = get_key.get_key\n",
    "\n",
    "yelp_api = YelpAPI(api)\n",
    "\n",
    "def getResults():\n",
    "    return yelp_api.search_query(term = \"food\", location = 'Syosset', limit = 50)\n",
    "search_results = getResults()"
   ]
  },
  {
   "cell_type": "code",
   "execution_count": 74,
   "metadata": {},
   "outputs": [
    {
     "name": "stdout",
     "output_type": "stream",
     "text": [
      "Iavarone Bros Quality Foods\n"
     ]
    }
   ],
   "source": [
    "#To become a second module\n",
    "import random\n",
    "\n",
    "def chooseRestaurant():\n",
    "    return search_results['businesses'][random.randint(0,len(search_results['businesses']))]['name']\n",
    "\n",
    "print(chooseRestaurant())"
   ]
  },
  {
   "cell_type": "code",
   "execution_count": null,
   "metadata": {
    "collapsed": true
   },
   "outputs": [],
   "source": []
  }
 ],
 "metadata": {
  "kernelspec": {
   "display_name": "Python 3",
   "language": "python",
   "name": "python3"
  },
  "language_info": {
   "codemirror_mode": {
    "name": "ipython",
    "version": 3
   },
   "file_extension": ".py",
   "mimetype": "text/x-python",
   "name": "python",
   "nbconvert_exporter": "python",
   "pygments_lexer": "ipython3",
   "version": "3.6.3"
  }
 },
 "nbformat": 4,
 "nbformat_minor": 2
}
